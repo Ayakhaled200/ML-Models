{
  "nbformat": 4,
  "nbformat_minor": 0,
  "metadata": {
    "colab": {
      "provenance": [],
      "authorship_tag": "ABX9TyOHEbYFLlXfCVbk7LfH9Vg+",
      "include_colab_link": true
    },
    "kernelspec": {
      "name": "python3",
      "display_name": "Python 3"
    },
    "language_info": {
      "name": "python"
    }
  },
  "cells": [
    {
      "cell_type": "markdown",
      "metadata": {
        "id": "view-in-github",
        "colab_type": "text"
      },
      "source": [
        "<a href=\"https://colab.research.google.com/github/Ayakhaled200/ML-Models/blob/main/Linear_Regression.ipynb\" target=\"_parent\"><img src=\"https://colab.research.google.com/assets/colab-badge.svg\" alt=\"Open In Colab\"/></a>"
      ]
    },
    {
      "cell_type": "code",
      "execution_count": 1,
      "metadata": {
        "colab": {
          "base_uri": "https://localhost:8080/",
          "height": 95
        },
        "id": "u3jLbzPhjiKq",
        "outputId": "3de7babc-64eb-4fd2-802d-1b868f0957f5"
      },
      "outputs": [
        {
          "output_type": "display_data",
          "data": {
            "text/plain": [
              "<IPython.core.display.HTML object>"
            ],
            "text/html": [
              "\n",
              "     <input type=\"file\" id=\"files-a9a1841a-19ab-4c53-81a9-3a85bd361e4c\" name=\"files[]\" multiple disabled\n",
              "        style=\"border:none\" />\n",
              "     <output id=\"result-a9a1841a-19ab-4c53-81a9-3a85bd361e4c\">\n",
              "      Upload widget is only available when the cell has been executed in the\n",
              "      current browser session. Please rerun this cell to enable.\n",
              "      </output>\n",
              "      <script>// Copyright 2017 Google LLC\n",
              "//\n",
              "// Licensed under the Apache License, Version 2.0 (the \"License\");\n",
              "// you may not use this file except in compliance with the License.\n",
              "// You may obtain a copy of the License at\n",
              "//\n",
              "//      http://www.apache.org/licenses/LICENSE-2.0\n",
              "//\n",
              "// Unless required by applicable law or agreed to in writing, software\n",
              "// distributed under the License is distributed on an \"AS IS\" BASIS,\n",
              "// WITHOUT WARRANTIES OR CONDITIONS OF ANY KIND, either express or implied.\n",
              "// See the License for the specific language governing permissions and\n",
              "// limitations under the License.\n",
              "\n",
              "/**\n",
              " * @fileoverview Helpers for google.colab Python module.\n",
              " */\n",
              "(function(scope) {\n",
              "function span(text, styleAttributes = {}) {\n",
              "  const element = document.createElement('span');\n",
              "  element.textContent = text;\n",
              "  for (const key of Object.keys(styleAttributes)) {\n",
              "    element.style[key] = styleAttributes[key];\n",
              "  }\n",
              "  return element;\n",
              "}\n",
              "\n",
              "// Max number of bytes which will be uploaded at a time.\n",
              "const MAX_PAYLOAD_SIZE = 100 * 1024;\n",
              "\n",
              "function _uploadFiles(inputId, outputId) {\n",
              "  const steps = uploadFilesStep(inputId, outputId);\n",
              "  const outputElement = document.getElementById(outputId);\n",
              "  // Cache steps on the outputElement to make it available for the next call\n",
              "  // to uploadFilesContinue from Python.\n",
              "  outputElement.steps = steps;\n",
              "\n",
              "  return _uploadFilesContinue(outputId);\n",
              "}\n",
              "\n",
              "// This is roughly an async generator (not supported in the browser yet),\n",
              "// where there are multiple asynchronous steps and the Python side is going\n",
              "// to poll for completion of each step.\n",
              "// This uses a Promise to block the python side on completion of each step,\n",
              "// then passes the result of the previous step as the input to the next step.\n",
              "function _uploadFilesContinue(outputId) {\n",
              "  const outputElement = document.getElementById(outputId);\n",
              "  const steps = outputElement.steps;\n",
              "\n",
              "  const next = steps.next(outputElement.lastPromiseValue);\n",
              "  return Promise.resolve(next.value.promise).then((value) => {\n",
              "    // Cache the last promise value to make it available to the next\n",
              "    // step of the generator.\n",
              "    outputElement.lastPromiseValue = value;\n",
              "    return next.value.response;\n",
              "  });\n",
              "}\n",
              "\n",
              "/**\n",
              " * Generator function which is called between each async step of the upload\n",
              " * process.\n",
              " * @param {string} inputId Element ID of the input file picker element.\n",
              " * @param {string} outputId Element ID of the output display.\n",
              " * @return {!Iterable<!Object>} Iterable of next steps.\n",
              " */\n",
              "function* uploadFilesStep(inputId, outputId) {\n",
              "  const inputElement = document.getElementById(inputId);\n",
              "  inputElement.disabled = false;\n",
              "\n",
              "  const outputElement = document.getElementById(outputId);\n",
              "  outputElement.innerHTML = '';\n",
              "\n",
              "  const pickedPromise = new Promise((resolve) => {\n",
              "    inputElement.addEventListener('change', (e) => {\n",
              "      resolve(e.target.files);\n",
              "    });\n",
              "  });\n",
              "\n",
              "  const cancel = document.createElement('button');\n",
              "  inputElement.parentElement.appendChild(cancel);\n",
              "  cancel.textContent = 'Cancel upload';\n",
              "  const cancelPromise = new Promise((resolve) => {\n",
              "    cancel.onclick = () => {\n",
              "      resolve(null);\n",
              "    };\n",
              "  });\n",
              "\n",
              "  // Wait for the user to pick the files.\n",
              "  const files = yield {\n",
              "    promise: Promise.race([pickedPromise, cancelPromise]),\n",
              "    response: {\n",
              "      action: 'starting',\n",
              "    }\n",
              "  };\n",
              "\n",
              "  cancel.remove();\n",
              "\n",
              "  // Disable the input element since further picks are not allowed.\n",
              "  inputElement.disabled = true;\n",
              "\n",
              "  if (!files) {\n",
              "    return {\n",
              "      response: {\n",
              "        action: 'complete',\n",
              "      }\n",
              "    };\n",
              "  }\n",
              "\n",
              "  for (const file of files) {\n",
              "    const li = document.createElement('li');\n",
              "    li.append(span(file.name, {fontWeight: 'bold'}));\n",
              "    li.append(span(\n",
              "        `(${file.type || 'n/a'}) - ${file.size} bytes, ` +\n",
              "        `last modified: ${\n",
              "            file.lastModifiedDate ? file.lastModifiedDate.toLocaleDateString() :\n",
              "                                    'n/a'} - `));\n",
              "    const percent = span('0% done');\n",
              "    li.appendChild(percent);\n",
              "\n",
              "    outputElement.appendChild(li);\n",
              "\n",
              "    const fileDataPromise = new Promise((resolve) => {\n",
              "      const reader = new FileReader();\n",
              "      reader.onload = (e) => {\n",
              "        resolve(e.target.result);\n",
              "      };\n",
              "      reader.readAsArrayBuffer(file);\n",
              "    });\n",
              "    // Wait for the data to be ready.\n",
              "    let fileData = yield {\n",
              "      promise: fileDataPromise,\n",
              "      response: {\n",
              "        action: 'continue',\n",
              "      }\n",
              "    };\n",
              "\n",
              "    // Use a chunked sending to avoid message size limits. See b/62115660.\n",
              "    let position = 0;\n",
              "    do {\n",
              "      const length = Math.min(fileData.byteLength - position, MAX_PAYLOAD_SIZE);\n",
              "      const chunk = new Uint8Array(fileData, position, length);\n",
              "      position += length;\n",
              "\n",
              "      const base64 = btoa(String.fromCharCode.apply(null, chunk));\n",
              "      yield {\n",
              "        response: {\n",
              "          action: 'append',\n",
              "          file: file.name,\n",
              "          data: base64,\n",
              "        },\n",
              "      };\n",
              "\n",
              "      let percentDone = fileData.byteLength === 0 ?\n",
              "          100 :\n",
              "          Math.round((position / fileData.byteLength) * 100);\n",
              "      percent.textContent = `${percentDone}% done`;\n",
              "\n",
              "    } while (position < fileData.byteLength);\n",
              "  }\n",
              "\n",
              "  // All done.\n",
              "  yield {\n",
              "    response: {\n",
              "      action: 'complete',\n",
              "    }\n",
              "  };\n",
              "}\n",
              "\n",
              "scope.google = scope.google || {};\n",
              "scope.google.colab = scope.google.colab || {};\n",
              "scope.google.colab._files = {\n",
              "  _uploadFiles,\n",
              "  _uploadFilesContinue,\n",
              "};\n",
              "})(self);\n",
              "</script> "
            ]
          },
          "metadata": {}
        },
        {
          "output_type": "stream",
          "name": "stdout",
          "text": [
            "Saving Salary.csv to Salary.csv\n",
            "Dataset 'Salary.csv' loaded successfully.\n"
          ]
        }
      ],
      "source": [
        "from google.colab import files   #salary dataset\n",
        "import pandas as pd\n",
        "\n",
        "# Upload the dataset\n",
        "uploaded = files.upload()\n",
        "\n",
        "# Read the dataset into a Pandas DataFrame\n",
        "for filename in uploaded.keys():\n",
        "    df = pd.read_csv(filename)\n",
        "    print(f\"Dataset '{filename}' loaded successfully.\")\n",
        "\n",
        "# Now you can work with the DataFrame 'df'\n",
        "# For example, you can display the first few rows:\n"
      ]
    },
    {
      "cell_type": "code",
      "source": [
        "from sklearn.model_selection import train_test_split\n",
        "X = df.drop(columns=['Salary'])  # Drop the target column from features\n",
        "y = df['Salary']  # Target column\n",
        "\n",
        "# Splitting into training and testing sets\n",
        "X_train, X_test, y_train, y_test = train_test_split(X, y, test_size=0.2, random_state=42)\n",
        "\n",
        "# Print the shapes of the resulting arrays to verify the split\n",
        "print(\"X_train shape:\", X_train.shape)\n",
        "print(\"X_test shape:\", X_test.shape)\n",
        "print(\"y_train shape:\", y_train.shape)\n",
        "print(\"y_test shape:\", y_test.shape)"
      ],
      "metadata": {
        "colab": {
          "base_uri": "https://localhost:8080/"
        },
        "id": "zymOE-qAjkg2",
        "outputId": "4ffc6466-ad57-41d3-9181-17c526be00d0"
      },
      "execution_count": 2,
      "outputs": [
        {
          "output_type": "stream",
          "name": "stdout",
          "text": [
            "X_train shape: (24, 1)\n",
            "X_test shape: (6, 1)\n",
            "y_train shape: (24,)\n",
            "y_test shape: (6,)\n"
          ]
        }
      ]
    },
    {
      "cell_type": "code",
      "source": [
        "import matplotlib.pyplot as plt\n",
        "\n",
        "# Plotting the dataset before fitting the model\n",
        "plt.figure(figsize=(10, 6))\n",
        "plt.scatter(X_train, y_train, color='blue', label='Training Data')\n",
        "plt.scatter(X_test, y_test, color='red', label='Test Data')\n",
        "plt.title('Dataset Before Fitting')\n",
        "plt.xlabel('X')\n",
        "plt.ylabel('y')\n",
        "plt.legend()\n",
        "plt.grid(True)\n",
        "plt.show()"
      ],
      "metadata": {
        "colab": {
          "base_uri": "https://localhost:8080/",
          "height": 564
        },
        "id": "cKzWKTruqOru",
        "outputId": "c8cfbd91-54e5-47b4-aee8-b2afdd233a9a"
      },
      "execution_count": 6,
      "outputs": [
        {
          "output_type": "display_data",
          "data": {
            "text/plain": [
              "<Figure size 1000x600 with 1 Axes>"
            ],
            "image/png": "[encoded data removed]"
          },
          "metadata": {}
        }
      ]
    },
    {
      "cell_type": "code",
      "source": [
        "import numpy as np\n",
        "\n",
        "def h(theta0, theta1, x1):\n",
        "    ypredict = theta0 + theta1 * x1\n",
        "    return ypredict\n",
        "\n",
        "def update_parameters(theta0, theta1, ypred, yhat, X, learning_rate):\n",
        "    num_samples = len(X)\n",
        "    # Compute gradients\n",
        "    dtheta1 = (1 / num_samples) * np.sum((ypred - yhat) * X)\n",
        "    dtheta0 = (1 / num_samples) * np.sum(ypred - yhat)\n",
        "    # Update parameters\n",
        "    theta1 -= learning_rate * dtheta1\n",
        "    theta0 -= learning_rate * dtheta0\n",
        "    return theta0, theta1\n",
        "\n",
        "def fit(X_train, y_train, num_iterations, learning_rate):\n",
        "    num_samples, num_features = X_train.shape\n",
        "    theta1 = np.zeros(1)\n",
        "    theta0 = 0\n",
        "\n",
        "    for _ in range(num_iterations):\n",
        "        for j in range(num_features):\n",
        "            y_pred = h(theta0, theta1, X_train[:, j])\n",
        "            theta0, theta1 = update_parameters(theta0, theta1, y_pred, y_train, X_train[:, j], learning_rate)\n",
        "\n",
        "    return theta0, theta1\n",
        "\n",
        "# Assuming X_train and y_train are your training data\n",
        "# X_train should be a 2D array with shape (num_samples, num_features)\n",
        "# y_train should be a 1D array with shape (num_samples,)\n",
        "# y_train should be a 1D array with shape (num_samples,)\n",
        "X_train = np.array(X_train)  # Example training data with one feature\n",
        "y_train = np.array(y_train)  # Example target variable\n",
        "\n",
        "num_iterations = 1000\n",
        "learning_rate = 0.01\n",
        "\n",
        "# Example usage:\n",
        "bias, weights = fit(X_train, y_train, num_iterations, learning_rate)\n",
        "print(\"Bias:\", bias)\n",
        "print(\"Weights:\", weights)\n",
        "\n",
        "y_pred = h(bias, weights, X_test)\n",
        "\n",
        "\n",
        "y_test = np.array(y_test).flatten()\n",
        "y_pred = np.array(y_pred).flatten()\n",
        "\n",
        "# Calculate accuracy\n",
        "def calculate_accuracy(y_true, y_pred):\n",
        "    return 1 - np.mean(np.abs(y_pred - y_true) / y_true)\n",
        "\n",
        "accuracy = calculate_accuracy(y_test, y_pred)\n",
        "print(\"Accuracy:\", accuracy)\n"
      ],
      "metadata": {
        "colab": {
          "base_uri": "https://localhost:8080/"
        },
        "id": "X6w_UOanjmf-",
        "outputId": "1edafca8-cda6-4319-f43a-3636624dd9f0"
      },
      "execution_count": 3,
      "outputs": [
        {
          "output_type": "stream",
          "name": "stdout",
          "text": [
            "Bias: 22997.421972034434\n",
            "Weights: [9768.48083188]\n",
            "Accuracy: 0.9222887244375325\n"
          ]
        }
      ]
    },
    {
      "cell_type": "code",
      "source": [
        "# THE Same Model But in one class\n",
        "import numpy as np\n",
        "\n",
        "class Linear_Regression:\n",
        "    def __init__(self, learning_rate=0.01, num_iterations=1000):\n",
        "        self.learning_rate = learning_rate\n",
        "        self.num_iterations = num_iterations\n",
        "        self.theta0 = None\n",
        "        self.theta1 = None\n",
        "        self.ypred = 0\n",
        "\n",
        "\n",
        "    def h(self, x1):   #hypothesis function (predict)\n",
        "        self.ypred = self.theta0 + self.theta1 * x1\n",
        "        return self.ypred\n",
        "\n",
        "    def update_parameters(self, yhat, X):\n",
        "        num_samples = len(X)\n",
        "        # Compute gradients\n",
        "        dtheta1 = (1 / num_samples) * np.sum((self.ypred - yhat) * X)\n",
        "        dtheta0 = (1 / num_samples) * np.sum(self.ypred - yhat)\n",
        "        # Update parameters\n",
        "        self.theta1 -= self.learning_rate * dtheta1\n",
        "        self.theta0 -= self.learning_rate * dtheta0\n",
        "        return self.theta0, self.theta1\n",
        "\n",
        "    def fit(self, X_train, y_train):\n",
        "        num_samples, num_features = X_train.shape\n",
        "        self.theta1 = np.zeros(1)\n",
        "        self.theta0 = 0\n",
        "\n",
        "        for _ in range(self.num_iterations):\n",
        "            for j in range(num_features):\n",
        "                y_pred = self.h(X_train[:, j])\n",
        "                theta0, theta1 = self.update_parameters(y_train, X_train[:, j])\n",
        "\n",
        "        return self.theta0, self.theta1\n",
        "\n",
        "\n",
        "# Example usage\n",
        "if __name__ == \"__main__\":\n",
        "\n",
        "    # Assuming you have already split your data into training and testing sets (X_train, y_train, X_test, y_test)\n",
        "\n",
        "    # Initialize and fit the model\n",
        "    model = Linear_Regression(learning_rate=0.01, num_iterations=1000)\n",
        "    model.fit(X_train, y_train)\n",
        "\n",
        "    # Make predictions on the test set\n",
        "    y_pred_test = model.h(X_test)\n",
        "\n",
        "    # Calculate accuracy\n",
        "    def calculate_accuracy(y_true, y_pred):\n",
        "        y_true = np.array(y_true).flatten()  # Convert to 1D array\n",
        "        y_pred = np.array(y_pred).flatten()  # Convert to 1D array\n",
        "        return 1 - np.mean(np.abs(y_pred - y_true) / y_true)\n",
        "\n",
        "accuracy = calculate_accuracy(y_test, y_pred_test)\n",
        "print(\"Accuracy:\", accuracy)\n"
      ],
      "metadata": {
        "colab": {
          "base_uri": "https://localhost:8080/"
        },
        "id": "ptqmvcGAjobr",
        "outputId": "3720da0c-507b-43fa-c3e8-5e732083ecc8"
      },
      "execution_count": 10,
      "outputs": [
        {
          "output_type": "stream",
          "name": "stdout",
          "text": [
            "Accuracy: 0.9222887244375325\n"
          ]
        }
      ]
    },
    {
      "cell_type": "code",
      "source": [
        "y_pred_train = model.h(X_train)\n",
        "\n",
        "# Plotting the dataset after fitting the model\n",
        "plt.figure(figsize=(10, 6))\n",
        "plt.scatter(X_train, y_train, color='blue', label='Training Data')\n",
        "plt.scatter(X_test, y_test, color='red', label='Test Data')\n",
        "plt.plot(X_train, y_pred_train, color='green', label='Fitted Line')\n",
        "plt.title('Dataset After Fitting')\n",
        "plt.xlabel('X')\n",
        "plt.ylabel('y')\n",
        "plt.legend()\n",
        "plt.grid(True)\n",
        "plt.show()"
      ],
      "metadata": {
        "colab": {
          "base_uri": "https://localhost:8080/",
          "height": 564
        },
        "id": "RhKsodvdqXQm",
        "outputId": "1360008b-e336-4713-943f-ef373d942d62"
      },
      "execution_count": 11,
      "outputs": [
        {
          "output_type": "display_data",
          "data": {
            "text/plain": [
              "<Figure size 1000x600 with 1 Axes>"
            ],
            "image/png": "[encoded data removed]"
          },
          "metadata": {}
        }
      ]
    },
    {
      "cell_type": "code",
      "source": [
        "from sklearn.linear_model import LinearRegression\n",
        "from sklearn.metrics import mean_absolute_error, mean_squared_error, r2_score\n",
        "\n",
        "# Initialize and fit the model\n",
        "model = LinearRegression()\n",
        "model.fit(X_train, y_train)\n",
        "\n",
        "# Make predictions\n",
        "y_pred_train = model.predict(X_train)\n",
        "y_pred_test = model.predict(X_test)\n",
        "\n",
        "# Calculate evaluation metrics\n",
        "mae_train = mean_absolute_error(y_train, y_pred_train)\n",
        "mae_test = mean_absolute_error(y_test, y_pred_test)\n",
        "\n",
        "mse_train = mean_squared_error(y_train, y_pred_train)\n",
        "mse_test = mean_squared_error(y_test, y_pred_test)\n",
        "\n",
        "r2_train = r2_score(y_train, y_pred_train)\n",
        "r2_test = r2_score(y_test, y_pred_test)\n",
        "\n",
        "print(\"Mean Absolute Error (Train):\", mae_train)\n",
        "print(\"Mean Absolute Error (Test):\", mae_test)\n",
        "print(\"Mean Squared Error (Train):\", mse_train)\n",
        "print(\"Mean Squared Error (Test):\", mse_test)\n",
        "print(\"R-squared (Train):\", r2_train)\n",
        "print(\"R-squared (Test):\", r2_test)"
      ],
      "metadata": {
        "colab": {
          "base_uri": "https://localhost:8080/"
        },
        "id": "Xl-ZDxtojqao",
        "outputId": "52e63774-b0b9-4fc7-8410-f9dd0bde4586"
      },
      "execution_count": 5,
      "outputs": [
        {
          "output_type": "stream",
          "name": "stdout",
          "text": [
            "Mean Absolute Error (Train): 4221.046734449738\n",
            "Mean Absolute Error (Test): 6286.453830757749\n",
            "Mean Squared Error (Train): 27102249.73126139\n",
            "Mean Squared Error (Test): 49830096.85590839\n",
            "R-squared (Train): 0.9645401573418146\n",
            "R-squared (Test): 0.9024461774180497\n"
          ]
        },
        {
          "output_type": "stream",
          "name": "stderr",
          "text": [
            "/usr/local/lib/python3.10/dist-packages/sklearn/base.py:432: UserWarning: X has feature names, but LinearRegression was fitted without feature names\n",
            "  warnings.warn(\n"
          ]
        }
      ]
    },
    {
      "cell_type": "code",
      "source": [],
      "metadata": {
        "id": "Th4eoZLapKio"
      },
      "execution_count": null,
      "outputs": []
    }
  ]
}
